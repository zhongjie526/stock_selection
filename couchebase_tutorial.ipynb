{
 "cells": [
  {
   "cell_type": "code",
   "execution_count": 7,
   "metadata": {},
   "outputs": [],
   "source": [
    "from couchbase.cluster import Cluster\n",
    "from couchbase.cluster import PasswordAuthenticator\n",
    "cluster = Cluster('couchbase://localhost')\n",
    "authenticator = PasswordAuthenticator('Frank', 'frank123')\n",
    "cluster.authenticate(authenticator)\n",
    "bucket = cluster.open_bucket('beer-sample')"
   ]
  },
  {
   "cell_type": "code",
   "execution_count": 8,
   "metadata": {},
   "outputs": [
    {
     "name": "stdout",
     "output_type": "stream",
     "text": [
      "{'address': ['563 Second Street'], 'city': 'San Francisco', 'code': '94107', 'country': 'United States', 'description': 'The 21st Amendment Brewery offers a variety of award winning house made brews and American grilled cuisine in a comfortable loft like setting. Join us before and after Giants baseball games in our outdoor beer garden. A great location for functions and parties in our semi-private Brewers Loft. See you soon at the 21A!', 'geo': {'accuracy': 'ROOFTOP', 'lat': 37.7825, 'lon': -122.393}, 'name': '21st Amendment Brewery Cafe', 'phone': '1-415-369-0900', 'state': 'California', 'type': 'brewery', 'updated': '2010-10-24 13:54:07', 'website': 'http://www.21st-amendment.com/'}\n"
     ]
    }
   ],
   "source": [
    "rv = bucket.get('21st_amendment_brewery_cafe')\n",
    "print(rv.value)"
   ]
  },
  {
   "cell_type": "code",
   "execution_count": 11,
   "metadata": {},
   "outputs": [
    {
     "name": "stdout",
     "output_type": "stream",
     "text": [
      "{'airportname': 'Reno Tahoe Intl', 'city': 'Reno', 'country': 'United States'}\n"
     ]
    }
   ],
   "source": [
    "from couchbase.n1ql import N1QLQuery\n",
    "query = N1QLQuery(\"\"\"SELECT airportname, city, country FROM `travel-sample` \"\"\"\n",
    "                  \"\"\"WHERE type=\"airport\" AND city=$my_city\"\"\", my_city=\"Reno\")\n",
    "for row in bucket.n1ql_query(query):\n",
    "    print(row)"
   ]
  },
  {
   "cell_type": "code",
   "execution_count": 12,
   "metadata": {},
   "outputs": [
    {
     "data": {
      "text/plain": [
       "OperationResult<rc=0x0, key='UD2', cas=0x1604695e85710000, tracing_context=0, tracing_output={'s': 'kv:Unknown', 'c': '0000000021980f48/0000000006135133', 'i': 1358580979, 'b': 'stocks', 'l': '127.0.0.1:56949', 'r': 'localhost:11210', 't': 2500000}>"
      ]
     },
     "execution_count": 12,
     "metadata": {},
     "output_type": "execute_result"
    }
   ],
   "source": [
    "bucket_stocks = cluster.open_bucket('stocks')\n",
    "\n",
    "bucket_stocks.insert('UD2',{'name':'Japfa'})"
   ]
  }
 ],
 "metadata": {
  "kernelspec": {
   "display_name": "Python 3",
   "language": "python",
   "name": "python3"
  },
  "language_info": {
   "codemirror_mode": {
    "name": "ipython",
    "version": 3
   },
   "file_extension": ".py",
   "mimetype": "text/x-python",
   "name": "python",
   "nbconvert_exporter": "python",
   "pygments_lexer": "ipython3",
   "version": "3.7.6"
  }
 },
 "nbformat": 4,
 "nbformat_minor": 2
}

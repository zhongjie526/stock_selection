{
 "cells": [
  {
   "cell_type": "code",
   "execution_count": 312,
   "metadata": {},
   "outputs": [],
   "source": [
    "import numpy as np\n",
    "\n",
    "def implied_r(price, nav, eps,default_rate,return_volitility):\n",
    "    return np.irr([nav-price]+simulate_returns(eps,default_rate,return_volitility))\n",
    "\n",
    "def simulate_returns(eps,eps_growth,default_rate,return_volitility):\n",
    "    returns = [eps]\n",
    "    \n",
    "    for i in range(np.random.geometric(default_rate)):\n",
    "        returns.append(returns[-1]+np.random.normal(eps_growth,return_volitility))\n",
    "        \n",
    "    #returns = np.random.normal(eps,return_volitility,np.random.geometric(default_rate))\n",
    "    \n",
    "    #avg_r = np.mean(returns)\n",
    "    #print (\"default in year {} with average EPS of {}\".format(str(len(returns)),str(avg_r)))\n",
    "    return returns[1:]\n",
    "\n",
    "def simulate_price(eps,eps_growth,default_rate,return_volitility,irr,nav):\n",
    "    returns = simulate_returns(eps,eps_growth,default_rate,return_volitility)\n",
    "    price_sim= nav+sum([r/(1+irr/100.0)**(year+1) for year,r in enumerate(returns)])\n",
    "    #print (\"simulated price is {}\".format(price_sim))\n",
    "    return (price_sim,returns)\n",
    "\n",
    "def match_price(price,eps,eps_growth,default_rate,return_volitility,irr,nav):\n",
    "    price_sim,returns = simulate_price(eps,eps_growth,default_rate,return_volitility,irr,nav)\n",
    "    n=0\n",
    "    while(abs(price_sim/price-1)>0.01):\n",
    "        #print (\"iteration {}\".format(str(n+1)))\n",
    "        price_sim,returns = simulate_price(eps,eps_growth,default_rate,return_volitility,irr,nav)\n",
    "        n+=1\n",
    "    print (\"iteration {}\".format(str(n+1)))\n",
    "    print (\"simulated price is {}\".format(price_sim))\n",
    "    print (returns)\n",
    "    returns\n",
    "    \n",
    "def match_price_random(price,eps,eps_growth,default_rate,return_volitility,irr,nav):\n",
    "    eps_growth = eps_growth+np.random.normal()/100\n",
    "    return_volitility = abs(return_volitility+np.random.normal()/100)\n",
    "    irr = abs(irr+np.random.normal())\n",
    "    price_sim,returns = simulate_price(eps,eps_growth,default_rate,return_volitility,irr,nav)\n",
    "    print(\"Matching price.....\")\n",
    "    n=0\n",
    "    while(abs(price_sim/price-1)>0.05):\n",
    "        eps_growth = eps_growth+np.random.normal()/100\n",
    "        return_volitility = abs(return_volitility+np.random.normal()/100)\n",
    "        irr = abs(irr+np.random.normal())\n",
    "        price_sim,returns = simulate_price(eps,eps_growth,default_rate,return_volitility,irr,nav)\n",
    "        n+=1\n",
    "        \n",
    "    print (\"iteration {}\".format(str(n+1)))\n",
    "    print (\"simulated price is {}\".format(price_sim))\n",
    "    \n",
    "def estimate_value(n,eps,eps_growth,default_rate,return_volitility,irr,nav):\n",
    "    prices=[]\n",
    "    for i in range(n):\n",
    "        price_sim,_ = simulate_price(eps,eps_growth,default_rate,return_volitility,irr,nav)\n",
    "        if price_sim<0:\n",
    "            prices.append(0.0)\n",
    "        else:\n",
    "            prices.append(price_sim)\n",
    "    return prices\n",
    "\n",
    "def estimate_return(n,price,eps,eps_growth,nav,print_result):\n",
    "    #eps_growth = eps_growth+np.random.normal()/100\n",
    "    return_volitility = abs(np.random.normal()*eps)\n",
    "    irr = np.random.uniform(1,5)\n",
    "    default_rate = np.random.uniform(0.05,0.9)\n",
    "    price_sim,returns = simulate_price(eps,eps_growth,default_rate,return_volitility,irr,nav)\n",
    "    while(abs(price_sim/price-1)>0.05):\n",
    "        #eps_growth = eps_growth+np.random.normal()/100\n",
    "        return_volitility = abs(np.random.normal()*eps)\n",
    "        irr = np.random.uniform(1,5)\n",
    "        default_rate = np.random.uniform(0.05,0.9)\n",
    "        price_sim,returns = simulate_price(eps,eps_growth,default_rate,return_volitility,irr,nav)\n",
    "       \n",
    "    if(print_result):\n",
    "        print (\"simulated price is {}\".format(price_sim))\n",
    "        print (\"projected eps_growth ={},return_volitility={},default_rate={},irr={}\".format(eps_growth,\n",
    "                                                                                      return_volitility,\n",
    "                                                                                        default_rate,irr))\n",
    "    prices= estimate_value(n,eps,eps_growth,default_rate,return_volitility,irr,nav)\n",
    "    return prices\n",
    "\n",
    "def aggregate_estimate(k,n,price,eps,eps_growth,nav):\n",
    "    estimates=[]\n",
    "    for i in range(k):\n",
    "        prices = estimate_return(n,price,eps,eps_growth,nav,False)\n",
    "        estimates.append(np.mean(prices))\n",
    "    return np.mean(estimates)"
   ]
  },
  {
   "cell_type": "code",
   "execution_count": 33,
   "metadata": {},
   "outputs": [
    {
     "name": "stdout",
     "output_type": "stream",
     "text": [
      "Matching price.....\n",
      "iteration 77\n",
      "simulated price is 9.56248320721923\n"
     ]
    }
   ],
   "source": [
    "match_price_random(price=10,eps=-0.715,eps_growth=0.5,default_rate=0.01,return_volitility=0.1,irr=2,nav=0.0)"
   ]
  },
  {
   "cell_type": "code",
   "execution_count": 34,
   "metadata": {},
   "outputs": [
    {
     "data": {
      "text/plain": [
       "1.0374300563766294"
      ]
     },
     "execution_count": 34,
     "metadata": {},
     "output_type": "execute_result"
    }
   ],
   "source": [
    "prices = estimate_value(n=10000,eps=-0.9,eps_growth=-0.001,default_rate=0.05,return_volitility=0.3,irr=2,nav=0.0)\n",
    "np.mean(prices)"
   ]
  },
  {
   "cell_type": "code",
   "execution_count": 313,
   "metadata": {},
   "outputs": [
    {
     "name": "stdout",
     "output_type": "stream",
     "text": [
      "simulated price is 0.3900235899467567\n",
      "projected eps_growth =0.001,return_volitility=0.08833364186724274,default_rate=0.12018850625651445,irr=1.47914614478023\n"
     ]
    },
    {
     "data": {
      "image/png": "[encoded data removed]",
      "text/plain": [
       "<Figure size 432x288 with 1 Axes>"
      ]
     },
     "metadata": {
      "needs_background": "light"
     },
     "output_type": "display_data"
    }
   ],
   "source": [
    "prices = estimate_return(n=100,price=0.41,eps=0.0645*1.3,eps_growth=0.001,nav=0.64,print_result=True)\n",
    "import matplotlib.pyplot as plt\n",
    "#_ = plt.hist(prices, bins='auto')\n",
    "\n",
    "plt.hist(prices, bins=np.linspace(0,2,50))\n",
    "plt.show()"
   ]
  },
  {
   "cell_type": "code",
   "execution_count": 314,
   "metadata": {},
   "outputs": [
    {
     "name": "stdout",
     "output_type": "stream",
     "text": [
      "simulated price is 32.88395431953019\n",
      "projected eps_growth =-1,return_volitility=1.4337271287752336,default_rate=0.10036735223402474,irr=4.743923450805876\n"
     ]
    },
    {
     "data": {
      "image/png": "[encoded data removed]",
      "text/plain": [
       "<Figure size 432x288 with 1 Axes>"
      ]
     },
     "metadata": {
      "needs_background": "light"
     },
     "output_type": "display_data"
    }
   ],
   "source": [
    "prices = estimate_return(n=100,price=32,eps=6.4,eps_growth=-1,nav=30,print_result=True)\n",
    "import matplotlib.pyplot as plt\n",
    "#_ = plt.hist(prices, bins='auto')\n",
    "\n",
    "plt.hist(prices, bins=np.linspace(0,100,50))\n",
    "plt.show()"
   ]
  },
  {
   "cell_type": "code",
   "execution_count": 297,
   "metadata": {},
   "outputs": [
    {
     "data": {
      "text/plain": [
       "1.374025940741558"
      ]
     },
     "execution_count": 297,
     "metadata": {},
     "output_type": "execute_result"
    }
   ],
   "source": [
    "aggregate_estimate(k=10,n=10,price=0.41,eps=0.0645*1.3,eps_growth=0.01,nav=0.6)"
   ]
  },
  {
   "cell_type": "code",
   "execution_count": 320,
   "metadata": {},
   "outputs": [
    {
     "data": {
      "text/plain": [
       "41.87133406226946"
      ]
     },
     "execution_count": 320,
     "metadata": {},
     "output_type": "execute_result"
    }
   ],
   "source": [
    "aggregate_estimate(k=100,n=100,price=31,eps=6.4,eps_growth=-1,nav=32.24)"
   ]
  },
  {
   "cell_type": "code",
   "execution_count": 327,
   "metadata": {},
   "outputs": [
    {
     "data": {
      "text/plain": [
       "2.8212941935971543"
      ]
     },
     "execution_count": 327,
     "metadata": {},
     "output_type": "execute_result"
    }
   ],
   "source": [
    "aggregate_estimate(k=100,n=10,price=1.23,eps=-2.05,eps_growth=-13,nav=19.38)"
   ]
  },
  {
   "cell_type": "code",
   "execution_count": 328,
   "metadata": {},
   "outputs": [
    {
     "data": {
      "text/plain": [
       "5.009730453833876"
      ]
     },
     "execution_count": 328,
     "metadata": {},
     "output_type": "execute_result"
    }
   ],
   "source": [
    "aggregate_estimate(k=100,n=10,price=1.83,eps=-2.59,eps_growth=-13,nav=23.47)"
   ]
  },
  {
   "cell_type": "code",
   "execution_count": 337,
   "metadata": {},
   "outputs": [
    {
     "data": {
      "text/plain": [
       "5.568332570628781"
      ]
     },
     "execution_count": 337,
     "metadata": {},
     "output_type": "execute_result"
    }
   ],
   "source": [
    "aggregate_estimate(k=100,n=10,price=1,eps=-0.71,eps_growth=0.5,nav=0.04)"
   ]
  }
 ],
 "metadata": {
  "kernelspec": {
   "display_name": "Python 3",
   "language": "python",
   "name": "python3"
  },
  "language_info": {
   "codemirror_mode": {
    "name": "ipython",
    "version": 3
   },
   "file_extension": ".py",
   "mimetype": "text/x-python",
   "name": "python",
   "nbconvert_exporter": "python",
   "pygments_lexer": "ipython3",
   "version": "3.7.6"
  }
 },
 "nbformat": 4,
 "nbformat_minor": 2
}

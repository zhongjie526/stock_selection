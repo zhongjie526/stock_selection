{
 "cells": [
  {
   "cell_type": "code",
   "execution_count": 43,
   "metadata": {},
   "outputs": [
    {
     "name": "stdout",
     "output_type": "stream",
     "text": [
      "Fetching data for D05.SI\n"
     ]
    },
    {
     "name": "stderr",
     "output_type": "stream",
     "text": [
      "/usr/local/lib/python3.7/site-packages/urllib3/connectionpool.py:1004: InsecureRequestWarning: Unverified HTTPS request is being made to host 'finance.yahoo.com'. Adding certificate verification is strongly advised. See: https://urllib3.readthedocs.io/en/latest/advanced-usage.html#ssl-warnings\n",
      "  InsecureRequestWarning,\n"
     ]
    },
    {
     "name": "stdout",
     "output_type": "stream",
     "text": [
      "Parsing http://finance.yahoo.com/quote/D05.SI?p=D05.SI\n",
      "=============recommendationTrend================\n",
      "{'trend': [{'period': '0m', 'strongBuy': 0, 'buy': 0, 'hold': 0, 'sell': 0, 'strongSell': 0}, {'period': '-1m', 'strongBuy': 6, 'buy': 8, 'hold': 10, 'sell': 0, 'strongSell': 0}, {'period': '-2m', 'strongBuy': 6, 'buy': 7, 'hold': 10, 'sell': 1, 'strongSell': 0}, {'period': '-3m', 'strongBuy': 5, 'buy': 7, 'hold': 11, 'sell': 1, 'strongSell': 0}], 'maxAge': 86400}\n",
      "=============earnings================\n",
      "{'maxAge': 86400, 'earningsChart': {'quarterly': [{'date': '4Q2017', 'actual': {'raw': 0.48, 'fmt': '0.48'}, 'estimate': {'raw': 0.48, 'fmt': '0.48'}}, {'date': '1Q2018', 'actual': {'raw': 0.59, 'fmt': '0.59'}, 'estimate': {'raw': 0.56, 'fmt': '0.56'}}, {'date': '2Q2018', 'actual': {'raw': 0.54, 'fmt': '0.54'}, 'estimate': {'raw': 0.55, 'fmt': '0.55'}}, {'date': '3Q2018', 'actual': {'raw': 0.55, 'fmt': '0.55'}, 'estimate': {'raw': 0.55, 'fmt': '0.55'}}], 'currentQuarterEstimateDate': '4Q', 'currentQuarterEstimateYear': 2018, 'earningsDate': [{'raw': 1588204800, 'fmt': '2020-04-30'}]}, 'financialsChart': {'yearly': [{'date': 2016, 'revenue': {'raw': 10055000000, 'fmt': '10.05B', 'longFmt': '10,055,000,000'}, 'earnings': {'raw': 4238000000, 'fmt': '4.24B', 'longFmt': '4,238,000,000'}}, {'date': 2017, 'revenue': {'raw': 10380000000, 'fmt': '10.38B', 'longFmt': '10,380,000,000'}, 'earnings': {'raw': 4371000000, 'fmt': '4.37B', 'longFmt': '4,371,000,000'}}, {'date': 2018, 'revenue': {'raw': 12473000000, 'fmt': '12.47B', 'longFmt': '12,473,000,000'}, 'earnings': {'raw': 5577000000, 'fmt': '5.58B', 'longFmt': '5,577,000,000'}}, {'date': 2019, 'revenue': {'raw': 13841000000, 'fmt': '13.84B', 'longFmt': '13,841,000,000'}, 'earnings': {'raw': 6391000000, 'fmt': '6.39B', 'longFmt': '6,391,000,000'}}], 'quarterly': [{'date': '1Q2019', 'revenue': {'raw': 3475000000, 'fmt': '3.48B', 'longFmt': '3,475,000,000'}, 'earnings': {'raw': 1651000000, 'fmt': '1.65B', 'longFmt': '1,651,000,000'}}, {'date': '2Q2019', 'revenue': {'raw': 3458000000, 'fmt': '3.46B', 'longFmt': '3,458,000,000'}, 'earnings': {'raw': 1603000000, 'fmt': '1.6B', 'longFmt': '1,603,000,000'}}, {'date': '3Q2019', 'revenue': {'raw': 3569000000, 'fmt': '3.57B', 'longFmt': '3,569,000,000'}, 'earnings': {'raw': 1629000000, 'fmt': '1.63B', 'longFmt': '1,629,000,000'}}, {'date': '4Q2019', 'revenue': {'raw': 3339000000, 'fmt': '3.34B', 'longFmt': '3,339,000,000'}, 'earnings': {'raw': 1508000000, 'fmt': '1.51B', 'longFmt': '1,508,000,000'}}]}, 'financialCurrency': 'SGD'}\n",
      "=============calendarEvents================\n",
      "{'maxAge': 1, 'earnings': {'earningsDate': [{'raw': 1588204800, 'fmt': '2020-04-30'}], 'earningsAverage': {}, 'earningsLow': {}, 'earningsHigh': {}, 'revenueAverage': {'raw': 3334360000, 'fmt': '3.33B', 'longFmt': '3,334,360,000'}, 'revenueLow': {'raw': 3322520000, 'fmt': '3.32B', 'longFmt': '3,322,520,000'}, 'revenueHigh': {'raw': 3342560000, 'fmt': '3.34B', 'longFmt': '3,342,560,000'}}, 'exDividendDate': {'raw': 1586217600, 'fmt': '2020-04-07'}, 'dividendDate': {}}\n",
      "=============upgradeDowngradeHistory================\n",
      "{'history': [], 'maxAge': 86400}\n",
      "=============defaultKeyStatistics================\n",
      "{'maxAge': 1, 'priceHint': {'raw': 2, 'fmt': '2', 'longFmt': '2'}, 'enterpriseValue': {'raw': 57863376896, 'fmt': '57.86B', 'longFmt': '57,863,376,896'}, 'forwardPE': {}, 'profitMargins': {'raw': 0.46174, 'fmt': '46.17%'}, 'floatShares': {'raw': 1801366709, 'fmt': '1.8B', 'longFmt': '1,801,366,709'}, 'sharesOutstanding': {'raw': 2560470016, 'fmt': '2.56B', 'longFmt': '2,560,470,016'}, 'sharesShort': {}, 'sharesShortPriorMonth': {}, 'sharesShortPreviousMonthDate': {}, 'dateShortInterest': {}, 'sharesPercentSharesOut': {}, 'heldPercentInsiders': {}, 'heldPercentInstitutions': {}, 'shortRatio': {}, 'shortPercentOfFloat': {}, 'beta': {'raw': 1.190273, 'fmt': '1.19'}, 'morningStarOverallRating': {}, 'morningStarRiskRating': {}, 'category': None, 'bookValue': {'raw': 19.964, 'fmt': '19.96'}, 'priceToBook': {'raw': 0.95872563, 'fmt': '0.96'}, 'annualReportExpenseRatio': {}, 'ytdReturn': {}, 'beta3Year': {}, 'totalAssets': {}, 'yield': {}, 'fundFamily': None, 'fundInceptionDate': {}, 'legalType': None, 'threeYearAverageReturn': {}, 'fiveYearAverageReturn': {}, 'priceToSalesTrailing12Months': {}, 'lastFiscalYearEnd': {'raw': 1577750400, 'fmt': '2019-12-31'}, 'nextFiscalYearEnd': {'raw': 1640908800, 'fmt': '2021-12-31'}, 'mostRecentQuarter': {'raw': 1577750400, 'fmt': '2019-12-31'}, 'earningsQuarterlyGrowth': {'raw': 0.143, 'fmt': '14.30%'}, 'revenueQuarterlyGrowth': {}, 'netIncomeToCommon': {'raw': 6298999808, 'fmt': '6.3B', 'longFmt': '6,298,999,808'}, 'trailingEps': {'raw': 2.465, 'fmt': '2.46'}, 'forwardEps': {'raw': 2.45, 'fmt': '2.45'}, 'pegRatio': {}, 'lastSplitFactor': None, 'lastSplitDate': {}, 'enterpriseToRevenue': {'raw': 4.181, 'fmt': '4.18'}, 'enterpriseToEbitda': {}, '52WeekChange': {'raw': -0.3318419, 'fmt': '-33.18%'}, 'SandP52WeekChange': {'raw': -0.04044485, 'fmt': '-4.04%'}, 'lastDividendValue': {}, 'lastCapGain': {}, 'annualHoldingsTurnover': {}}\n",
      "=============summaryProfile================\n",
      "{'address1': '12 Marina Boulevard', 'address2': 'DBS Asia Central @ Marina Bay Financial Centre Tower 3', 'city': 'Singapore', 'zip': '018982', 'country': 'Singapore', 'phone': '65 6878 8888', 'website': 'http://www.dbs.com', 'industry': 'Banksâ€”Regional', 'sector': 'Financial Services', 'longBusinessSummary': 'DBS Group Holdings Ltd provides financial products and services in Singapore, Hong Kong, rest of Greater China, South and Southeast Asia, and internationally. It operates through Consumer Banking/Wealth Management, Institutional Banking, Treasury Markets, and Others segments. The Consumer Banking/Wealth Management segment offers banking and related financial services, including current and savings accounts, fixed deposits, loans and home finance, cards, payments, investment, and insurance products for individual customers. The Institutional Banking segment provides financial services and products for bank and non-bank financial institutions, government-linked companies, large corporates, and small and medium sized businesses. Its products and services comprise short-term working capital financing and specialized lending; cash management, trade finance, and securities and fiduciary services; treasury and markets products; and corporate finance and advisory banking, as well as capital markets solutions. The Treasury Markets segment is involved in structuring, market-making, and trading in a range of treasury products. The Others segment offers Islamic banking services. DBS Group Holdings Ltd was founded in 1968 and is headquartered in Singapore.', 'fullTimeEmployees': 28526, 'companyOfficers': [], 'maxAge': 86400}\n",
      "=============financialData================\n",
      "{'maxAge': 86400, 'currentPrice': {'raw': 19.14, 'fmt': '19.14'}, 'targetHighPrice': {'raw': 35.0, 'fmt': '35.00'}, 'targetLowPrice': {'raw': 26.5, 'fmt': '26.50'}, 'targetMeanPrice': {'raw': 30.14, 'fmt': '30.14'}, 'targetMedianPrice': {'raw': 29.8, 'fmt': '29.80'}, 'recommendationMean': {}, 'recommendationKey': 'none', 'numberOfAnalystOpinions': {'raw': 23, 'fmt': '23', 'longFmt': '23'}, 'totalCash': {'raw': 95650996224, 'fmt': '95.65B', 'longFmt': '95,650,996,224'}, 'totalCashPerShare': {'raw': 37.357, 'fmt': '37.36'}, 'ebitda': {}, 'totalDebt': {'raw': 103689003008, 'fmt': '103.69B', 'longFmt': '103,689,003,008'}, 'quickRatio': {}, 'currentRatio': {}, 'totalRevenue': {'raw': 13841000448, 'fmt': '13.84B', 'longFmt': '13,841,000,448'}, 'debtToEquity': {}, 'revenuePerShare': {'raw': 5.416, 'fmt': '5.42'}, 'returnOnAssets': {'raw': 0.01138, 'fmt': '1.14%'}, 'returnOnEquity': {'raw': 0.12646, 'fmt': '12.65%'}, 'grossProfits': {'raw': 13841000000, 'fmt': '13.84B', 'longFmt': '13,841,000,000'}, 'freeCashflow': {}, 'operatingCashflow': {'raw': 278000000, 'fmt': '278M', 'longFmt': '278,000,000'}, 'earningsGrowth': {'raw': 0.147, 'fmt': '14.70%'}, 'revenueGrowth': {'raw': 0.098, 'fmt': '9.80%'}, 'grossMargins': {'raw': 0.0, 'fmt': '0.00%'}, 'ebitdaMargins': {'raw': 0.0, 'fmt': '0.00%'}, 'operatingMargins': {'raw': 0.54787, 'fmt': '54.79%'}, 'profitMargins': {'raw': 0.46174, 'fmt': '46.17%'}, 'financialCurrency': 'SGD'}\n",
      "OrderedDict()\n",
      "Writing data to output file\n"
     ]
    }
   ],
   "source": [
    "from lxml import html  \n",
    "import requests\n",
    "from time import sleep\n",
    "import json\n",
    "import argparse\n",
    "from collections import OrderedDict\n",
    "from time import sleep\n",
    "import csv\n",
    "\n",
    "def parse(ticker):\n",
    "    url = \"http://finance.yahoo.com/quote/%s?p=%s\"%(ticker,ticker)\n",
    "    response = requests.get(url, verify=False)\n",
    "    print (\"Parsing %s\"%(url))\n",
    "    sleep(4)\n",
    "    parser = html.fromstring(response.text)\n",
    "    quote = parser.xpath('//span[contains(@class,\"Trsdu(0.3s) Fw(b)\")]')[0].text\n",
    "    quote_currency = parser.xpath('//div[contains(@class,\"C($tertiaryColor) Fz(12px)\")]//span')[0].text.split()[-1]\n",
    "    summary_table = parser.xpath('//div[contains(@data-test,\"summary-table\")]//tr')\n",
    "    summary_data = OrderedDict()\n",
    "    other_details_json_link = \"https://query2.finance.yahoo.com/v10/finance/quoteSummary/{0}?formatted=true&lang=en-US&region=US&modules=summaryProfile%2CfinancialData%2CrecommendationTrend%2CupgradeDowngradeHistory%2Cearnings%2CdefaultKeyStatistics%2CcalendarEvents&corsDomain=finance.yahoo.com\".format(ticker)\n",
    "    summary_json_response = requests.get(other_details_json_link)\n",
    "    try:\n",
    "        json_loaded_summary =  json.loads(summary_json_response.text)\n",
    "        quoteSummary = json_loaded_summary[\"quoteSummary\"][\"result\"][0]\n",
    "        for each in quoteSummary:\n",
    "             print (\"=============\"+each+\"================\")\n",
    "             print (quoteSummary[each])\n",
    "        \n",
    "        #price = quoteSummary[\"financialData\"][\"currentPrice\"]['raw']\n",
    "        financial_currency=quoteSummary[\"financialData\"][\"financialCurrency\"]\n",
    "        eps = quoteSummary[\"defaultKeyStatistics\"][\"trailingEps\"]['raw']\n",
    "        book_value = quoteSummary[\"defaultKeyStatistics\"][\"bookValue\"]['raw']\n",
    "        print(summary_data)\n",
    "#         for table_data in summary_table:\n",
    "#             raw_table_key = table_data.xpath('.//td[contains(@class,\"C($primaryColor)\")]//text()')\n",
    "#             raw_table_value = table_data.xpath('.//td[contains(@class,\"Ta(end)\")]//text()')\n",
    "#             table_key = ''.join(raw_table_key).strip()\n",
    "#             table_value = ''.join(raw_table_value).strip()\n",
    "#             summary_data.update({table_key:table_value})\n",
    "        summary_data.update({'ticker':ticker,'url':url,'quote':quote,'eps':eps,'book_value':book_value,\n",
    "                             'quote_currency':quote_currency,'financial_currency':financial_currency})\n",
    "        return summary_data\n",
    "    except:\n",
    "        print (\"Failed to parse json response\")\n",
    "        return {\"error\":\"Failed to parse json response\"}\n",
    "        \n",
    "\n",
    "#argparser = argparse.ArgumentParser()\n",
    "#argparser.add_argument('ticker',help = '')\n",
    "#args = argparser.parse_args()\n",
    "# ticker = args.ticker\n",
    "ticker =\"D05.SI\"\n",
    "print (\"Fetching data for %s\"%(ticker))\n",
    "scraped_data = parse(ticker)\n",
    "print (\"Writing data to output file\")\n",
    "\n",
    "#with open('%s-summary.json'%(ticker),'w') as fp:\n",
    "     #json.dump(scraped_data,fp,indent = 4)\n",
    "        "
   ]
  },
  {
   "cell_type": "code",
   "execution_count": null,
   "metadata": {},
   "outputs": [],
   "source": []
  }
 ],
 "metadata": {
  "kernelspec": {
   "display_name": "Python 3",
   "language": "python",
   "name": "python3"
  },
  "language_info": {
   "codemirror_mode": {
    "name": "ipython",
    "version": 3
   },
   "file_extension": ".py",
   "mimetype": "text/x-python",
   "name": "python",
   "nbconvert_exporter": "python",
   "pygments_lexer": "ipython3",
   "version": "3.7.6"
  }
 },
 "nbformat": 4,
 "nbformat_minor": 2
}

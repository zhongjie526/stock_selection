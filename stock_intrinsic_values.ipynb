{
 "cells": [
  {
   "cell_type": "code",
   "execution_count": 142,
   "metadata": {},
   "outputs": [],
   "source": [
    "import numpy as np\n",
    "from couchbase.cluster import Cluster\n",
    "from couchbase.cluster import PasswordAuthenticator\n",
    "from couchbase import FMT_BYTES\n",
    "from lxml import html  \n",
    "import requests\n",
    "from time import sleep\n",
    "import json\n",
    "import argparse\n",
    "from collections import OrderedDict\n",
    "from time import sleep\n",
    "import csv\n",
    "import couchbase.subdocument as SD\n",
    "from couchbase.exceptions import NotFoundError\n",
    "\n",
    "def on_ok(result):\n",
    "    print(\"Operation succeeded\")\n",
    "    if hasattr(result, 'value'):\n",
    "        print (\"Value is\", result.value)\n",
    "\n",
    "def on_err(err):\n",
    "    print(\"Operation failed\", err)\n",
    "    \n",
    "\n",
    "cluster = Cluster('couchbase://localhost')\n",
    "authenticator = PasswordAuthenticator('Frank', 'frank123')\n",
    "cluster.authenticate(authenticator)\n",
    "bucket_stocks = cluster.open_bucket('stocks')"
   ]
  },
  {
   "cell_type": "code",
   "execution_count": 47,
   "metadata": {},
   "outputs": [],
   "source": [
    "tickers = [i.strip().split(';')[-3].strip() for i in open(\"./SESprice.dat\").readlines()]"
   ]
  },
  {
   "cell_type": "code",
   "execution_count": 122,
   "metadata": {},
   "outputs": [],
   "source": [
    "class Projection:\n",
    "    \n",
    "    def __init__(self,nav,eps,eps_bias,eps_scale,irr,g,lifespan):\n",
    "        self.nav = nav\n",
    "        self.eps = eps\n",
    "        self.eps_bias = eps_bias\n",
    "        self.eps_scale = eps_scale\n",
    "        self.irr =irr\n",
    "        self.g = g\n",
    "        self.lifespan = lifespan\n",
    "        self.simulate()\n",
    "        \n",
    "    def simulate(self,eps_add=0.00,eps_bias_add=0.00):\n",
    "        nav_proj = [self.nav]\n",
    "        returns = [self.eps+abs(self.eps)*eps_add]\n",
    "        \n",
    "        for _ in range(self.lifespan):\n",
    "            r_diff = np.random.normal(self.eps_bias+abs(self.eps_bias)*eps_bias_add,self.eps_scale)\n",
    "            returns.append(returns[-1]+r_diff)\n",
    "        \n",
    "        self.returns = returns[1:]\n",
    "        \n",
    "        for i in range(self.lifespan):\n",
    "            new_nav = nav_proj[-1]+self.returns[i]\n",
    "            nav_proj.append(new_nav)\n",
    "            \n",
    "        self.nav_proj = nav_proj[1:]\n",
    "        \n",
    "    def set_eps_bias(self,eps_bias):\n",
    "        self.eps_bias = eps_bias\n",
    "        \n",
    "    def npv(self,irr_add=0.00,nav_add=0.00):\n",
    "        irr = max(1,self.irr*(1+irr_add))\n",
    "        npv = self.nav+abs(self.nav)*nav_add\n",
    "        npv += sum([(r-max(0,self.nav_proj[year]*irr)/100.0)/(1+irr/100.0)**(year+1) for year,r in enumerate(self.returns)])\n",
    "        npv += (self.returns[-1]-max(0,self.returns[-1]*irr/100.00))/(irr-self.g)/(1+irr/100.0)**self.lifespan\n",
    "        if npv<0:\n",
    "            return 0\n",
    "        else:\n",
    "            return npv\n",
    "        \n",
    "    def npv_sim(self,eps_add=0.00,eps_bias_add=0.00,irr_add=0.00,nav_add=0.00):\n",
    "        self.simulate(eps_add,eps_bias_add)\n",
    "        return self.npv(irr_add,nav_add)\n",
    "    \n",
    "    def to_dict(self):\n",
    "        return {'nav':self.nav,'eps':self.eps,'eps_bias':self.eps_bias,'eps_scale':self.eps_scale,\n",
    "        'irr':self.irr,'g':self.g ,'lifespan':self.lifespan}\n",
    "    \n",
    "    def from_dict(d):\n",
    "        return Projection(nav=d['nav'],eps=d['eps'],eps_bias=d['eps_bias'],eps_scale=d['eps_scale'],\n",
    "                         irr=d['irr'],g=d['g'],lifespan=d['lifespan'])\n",
    "        "
   ]
  },
  {
   "cell_type": "code",
   "execution_count": 104,
   "metadata": {},
   "outputs": [
    {
     "name": "stdout",
     "output_type": "stream",
     "text": [
      "1.3159855469381752\n"
     ]
    },
    {
     "data": {
      "text/plain": [
       "2.5899254726294756"
      ]
     },
     "execution_count": 104,
     "metadata": {},
     "output_type": "execute_result"
    }
   ],
   "source": [
    "p =  Projection(nav=1,eps=0,eps_bias=0.2,eps_scale=0.2,irr=7,g=1,lifespan=2)\n",
    "p.set_eps_bias(0.5)\n",
    "#p.npv_sim()\n",
    "print(p.npv()) \n",
    "d=p.to_dict()\n",
    "Projection.from_dict(d).npv()"
   ]
  },
  {
   "cell_type": "code",
   "execution_count": 246,
   "metadata": {},
   "outputs": [],
   "source": [
    "class Stock:\n",
    "\n",
    "    def __init__(self,ticker, price, nav, eps):\n",
    "        self.ticker = ticker\n",
    "        self.price = price\n",
    "        self.nav = nav\n",
    "        self.eps = eps\n",
    "\n",
    "    def initialize(self):\n",
    "        self.matched_projections = []\n",
    "        self.refresh_price()\n",
    "        \n",
    "    def set_projections(self,projections):\n",
    "        self.matched_projections = projections\n",
    "        \n",
    "    def random_projection(self):\n",
    "        return Projection(nav=np.random.normal(self.nav,self.price/10),\n",
    "              eps=np.random.normal(self.eps,abs(self.eps)+self.price/10),\n",
    "              eps_bias=np.random.normal(0,abs(self.eps)+self.price),\n",
    "              eps_scale=abs(np.random.normal(0,abs(self.eps)+self.price)),\n",
    "              irr=abs(np.random.normal(15,10)),\n",
    "              g=np.random.normal(5,15),\n",
    "              lifespan=np.random.geometric(0.1))\n",
    "        \n",
    "    def match_price(self,limit=10000):\n",
    "        n= len(self.matched_projections)\n",
    "        while(limit>0):\n",
    "            p = self.random_projection()\n",
    "            if abs((p.npv()/self.price)-1)<0.2:\n",
    "                self.matched_projections.append(p.to_dict())\n",
    "            limit -=1\n",
    "            \n",
    "        print(\"{} new projections matched\".format(len(self.matched_projections)-n))\n",
    "            \n",
    "    def refresh_price(self,match_price=True):\n",
    "        if match_price:\n",
    "            self.match_price()\n",
    "        self.price_estimates = [Projection.from_dict(p).npv() for p in self.matched_projections]\n",
    "    \n",
    "    def intrinsic_value(self):\n",
    "        return np.median(self.price_estimates)\n",
    "    \n",
    "    def price_volitility(self):\n",
    "        return np.std(self.price_estimates)\n",
    "    \n",
    "    def implied_eps(self):\n",
    "        return np.mean([p['eps'] for p in self.matched_projections])\n",
    "    \n",
    "    def implied_eps_bias(self):\n",
    "        return np.mean([p['eps_bias'] for p in self.matched_projections])\n",
    "    \n",
    "    def implied_irr(self):\n",
    "        return np.mean([p['irr'] for p in self.matched_projections])\n",
    "    \n",
    "    def implied_g(self):\n",
    "        return np.mean([p['g'] for p in self.matched_projections])\n",
    "    \n",
    "    def implied_lifespan(self):\n",
    "        return np.mean([p['lifespan'] for p in self.matched_projections])\n",
    "    \n",
    "    def implied_nav(self):\n",
    "        return np.mean([p['nav'] for p in self.matched_projections])\n",
    "    \n",
    "    def eps_elasticity_up(self,magnitude=0.2):\n",
    "        price_up = np.median([Projection.from_dict(p).npv_sim(eps_add=magnitude) for p in self.matched_projections])\n",
    "        return (price_up/self.intrinsic_value()-1)/magnitude\n",
    "    \n",
    "    def eps_elasticity_down(self,magnitude=0.2):\n",
    "        price_down = np.median([Projection.from_dict(p).npv_sim(eps_add=-magnitude) for p in self.matched_projections])\n",
    "        return (self.intrinsic_value()/price_down-1)/magnitude\n",
    "    \n",
    "    def eps_bias_elasticity_up(self,magnitude=0.2):\n",
    "        price_up = np.median([Projection.from_dict(p).npv_sim(eps_bias_add=magnitude) for p in self.matched_projections])\n",
    "        return (price_up/self.intrinsic_value()-1)/magnitude\n",
    "    \n",
    "    def eps_bias_elasticity_down(self,magnitude=0.2):\n",
    "        price_down = np.median([Projection.from_dict(p).npv_sim(eps_bias_add=-magnitude) for p in self.matched_projections])\n",
    "        return (self.intrinsic_value()/price_down-1)/magnitude\n",
    "    \n",
    "    def irr_elasticity_up(self,magnitude=0.2):\n",
    "        price_up = np.median([Projection.from_dict(p).npv_sim(irr_add=-magnitude) for p in self.matched_projections])\n",
    "        return (price_up/self.intrinsic_value()-1)/magnitude\n",
    "    \n",
    "    def irr_elasticity_down(self,magnitude=0.2):\n",
    "        price_down = np.median([Projection.from_dict(p).npv_sim(irr_add=magnitude) for p in self.matched_projections])\n",
    "        return (self.intrinsic_value()/price_down-1)/magnitude\n",
    "    \n",
    "    def nav_elasticity_up(self,magnitude=0.2):\n",
    "        price_up = np.median([Projection.from_dict(p).npv_sim(nav_add=magnitude) for p in self.matched_projections])\n",
    "        return (price_up/self.intrinsic_value()-1)/magnitude\n",
    "    \n",
    "    def nav_elasticity_down(self,magnitude=0.2):\n",
    "        price_down = np.median([Projection.from_dict(p).npv_sim(nav_add=-magnitude) for p in self.matched_projections])\n",
    "        return (self.intrinsic_value()/price_down-1)/magnitude\n",
    "    \n",
    "    def summary(self):\n",
    "        print (\"\"\"Stock {} with intrinsic value {:.3f} and estimate volitility {:.3f}\n",
    "implied eps: {:.3f} with upside elasticity: {:.2f} with downside elasticity: {:.2f}\n",
    "implied eps bias: {:.3f} with upside elasticity: {:.2f} with downside elasticity: {:.2f}\n",
    "implied irr: {:.1f}% with upside elasticity: {:.2f} with downside elasticity: {:.2f}\n",
    "implied g: {:.1f}% after year {:.1f}  \n",
    "implied nav: {:.3f} with upside elasticity: {:.2f} with downside elasticity: {:.2f}\n",
    "        \n",
    "        \"\"\".format(self.ticker,self.intrinsic_value(),self.price_volitility(),\n",
    "                   self.implied_eps(),self.eps_elasticity_up(),self.eps_elasticity_down(),\n",
    "                   self.implied_eps_bias(),self.eps_bias_elasticity_up(),self.eps_bias_elasticity_down(),\n",
    "                   self.implied_irr(),self.irr_elasticity_up(),self.irr_elasticity_down(),\n",
    "                   self.implied_g(),self.implied_lifespan(),\n",
    "                   self.implied_nav(),self.nav_elasticity_up(),self.nav_elasticity_down(),\n",
    "                  ))\n",
    "        \n",
    "    def save_projections(self,bucket):\n",
    "        try:\n",
    "            bucket.mutate_in(self.ticker, SD.upsert('matched_projections', self.matched_projections))\n",
    "        except NotFoundError as e:\n",
    "            print (\"Item not found\", e)\n",
    "            \n",
    "    def append_projections(self,bucket):\n",
    "        try:\n",
    "            bucket.mutate_in(self.ticker, SD.array_append('matched_projections', *self.matched_projections))\n",
    "        except NotFoundError as e:\n",
    "            print (\"Item not found\", e)\n",
    "        "
   ]
  },
  {
   "cell_type": "code",
   "execution_count": 247,
   "metadata": {},
   "outputs": [
    {
     "name": "stdout",
     "output_type": "stream",
     "text": [
      "265 new projections matched\n",
      "Stock RE4.SI with intrinsic value 0.072 and estimate volitility 0.148\n",
      "implied eps: -0.035 with upside elasticity: 0.91 with downside elasticity: 0.02\n",
      "implied eps bias: 0.020 with upside elasticity: 1.20 with downside elasticity: 0.49\n",
      "implied irr: 18.8% with upside elasticity: 1.31 with downside elasticity: 0.51\n",
      "implied g: 6.7% after year 4.6  \n",
      "implied nav: 0.128 with upside elasticity: 2.07 with downside elasticity: 2.14\n",
      "        \n",
      "        \n"
     ]
    }
   ],
   "source": [
    "x = Stock(\"RE4.SI\",0.079,0.1281,-0.03639)\n",
    "x.initialize()\n",
    "x.summary()\n",
    "#x.save_projections(bucket_stocks)\n",
    "x.append_projections(bucket_stocks)\n"
   ]
  },
  {
   "cell_type": "code",
   "execution_count": 414,
   "metadata": {},
   "outputs": [
    {
     "name": "stdout",
     "output_type": "stream",
     "text": [
      "259 new projections matched\n",
      "Stock GeoEnergy with intrinsic value 0.016 and estimate volitility 0.153\n",
      "implied eps: -0.034\n",
      "implied eps bias: -0.027 with elasticity: 0.00\n",
      "implied irr: 18.7% with elasticity: -0.00 \n",
      "implied g: 5.5% after year 4.6  \n",
      "implied nav: 0.128 with elasticity: 0.02\n",
      "        \n",
      "        \n"
     ]
    }
   ],
   "source": [
    "x.refresh_price()\n",
    "#x.set_eps_bias(eps_bias=-0.05)\n",
    "x.summary()"
   ]
  },
  {
   "cell_type": "code",
   "execution_count": 144,
   "metadata": {},
   "outputs": [
    {
     "name": "stdout",
     "output_type": "stream",
     "text": [
      "138 new projections matched\n",
      "Stock GeoEnergy with intrinsic value 0.073 and estimate volitility 0.381\n",
      "implied default rate: 32% with elasticity: 0.01\n",
      "implied eps: -0.041\n",
      "implied eps bias: 0.020 with elasticity: 0.01\n",
      "implied eps skew: 0.015\n",
      "implied irr: 27.4% with elasticity: -0.00 \n",
      "implied nav: 0.128 with elasticity: -0.01\n",
      "        \n",
      "        \n"
     ]
    }
   ],
   "source": [
    "x.refresh_price()\n",
    "x.summary()"
   ]
  },
  {
   "cell_type": "code",
   "execution_count": 430,
   "metadata": {},
   "outputs": [
    {
     "name": "stdout",
     "output_type": "stream",
     "text": [
      "337 new projections matched\n",
      "Stock Japfa with intrinsic value 0.472 and estimate volitility 0.751\n",
      "implied eps: 0.078\n",
      "implied eps bias: 0.025 with elasticity: -0.03\n",
      "implied irr: 18.7% with elasticity: -0.07 \n",
      "implied g: 5.0% after year 5.0  \n",
      "implied nav: 0.627 with elasticity: 0.10\n",
      "        \n",
      "        \n"
     ]
    }
   ],
   "source": [
    "y = Stock(\"UD2\",\"Japfa\",0.48,0.6306,0.07971)\n",
    "y.summary()\n",
    "y.save(bucket_stocks)"
   ]
  },
  {
   "cell_type": "code",
   "execution_count": 250,
   "metadata": {},
   "outputs": [
    {
     "name": "stdout",
     "output_type": "stream",
     "text": [
      "Stock Japfa with intrinsic value 0.501 and estimate volitility 1.137\n",
      "implied default rate: 33% with elasticity: 0.04\n",
      "implied eps: 0.093\n",
      "implied eps bias: 0.073 with elasticity: 0.01\n",
      "implied eps skew: 0.032\n",
      "implied irr: 23.1% with elasticity: -0.10 \n",
      "implied nav: 0.631 with elasticity: -0.01\n",
      "        \n",
      "        \n"
     ]
    }
   ],
   "source": [
    "y.refresh_price(match_price=False)\n",
    "y.summary()"
   ]
  },
  {
   "cell_type": "code",
   "execution_count": 415,
   "metadata": {},
   "outputs": [
    {
     "name": "stdout",
     "output_type": "stream",
     "text": [
      "85 new projections matched\n",
      "Stock DO with intrinsic value 1.409 and estimate volitility 8.236\n",
      "implied eps: -2.868\n",
      "implied eps bias: -0.054 with elasticity: -0.18\n",
      "implied irr: 20.8% with elasticity: -1.81 \n",
      "implied g: 3.7% after year 11.7  \n",
      "implied nav: 23.462 with elasticity: 3.68\n",
      "        \n",
      "        \n"
     ]
    }
   ],
   "source": [
    "z= Stock(\"DO\",1.8,23.47,-2.59)\n",
    "z.summary()"
   ]
  },
  {
   "cell_type": "code",
   "execution_count": 425,
   "metadata": {},
   "outputs": [
    {
     "name": "stdout",
     "output_type": "stream",
     "text": [
      "223 new projections matched\n",
      "Stock TXMD with intrinsic value 0.905 and estimate volitility 2.251\n",
      "implied eps: -0.641\n",
      "implied eps bias: 0.797 with elasticity: 0.10\n",
      "implied irr: 18.6% with elasticity: -0.51 \n",
      "implied g: 6.0% after year 4.8  \n",
      "implied nav: 0.047 with elasticity: 0.01\n",
      "        \n",
      "        \n"
     ]
    }
   ],
   "source": [
    "z= Stock(\"TXMD\",1,0.04,-0.71)\n",
    "#z.refresh_price()\n",
    "z.summary()"
   ]
  },
  {
   "cell_type": "code",
   "execution_count": 1741,
   "metadata": {},
   "outputs": [],
   "source": [
    "y= Stock(\"SURF\",1.78,2.03,-1.97)"
   ]
  },
  {
   "cell_type": "code",
   "execution_count": 1614,
   "metadata": {},
   "outputs": [
    {
     "data": {
      "text/plain": [
       "1093"
      ]
     },
     "execution_count": 1614,
     "metadata": {},
     "output_type": "execute_result"
    }
   ],
   "source": [
    "x.match_price(10000)\n",
    "len(x.matched_projections)"
   ]
  },
  {
   "cell_type": "code",
   "execution_count": 960,
   "metadata": {},
   "outputs": [
    {
     "data": {
      "image/png": "[encoded data removed]",
      "text/plain": [
       "<Figure size 432x288 with 1 Axes>"
      ]
     },
     "metadata": {
      "needs_background": "light"
     },
     "output_type": "display_data"
    }
   ],
   "source": [
    "import matplotlib.pyplot as plt\n",
    "a = [p.eps_bias for p in x.matched_projections ]\n",
    "b = [p.default_rate for p in x.matched_projections]\n",
    "\n",
    "area = np.pi\n",
    "\n",
    "plt.scatter(a, b, s=area, c='g', alpha=0.5)\n",
    "plt.title('Scatter plot pythonspot.com')\n",
    "plt.xlabel('x')\n",
    "plt.ylabel('y')\n",
    "plt.show()"
   ]
  },
  {
   "cell_type": "code",
   "execution_count": 961,
   "metadata": {},
   "outputs": [
    {
     "data": {
      "text/plain": [
       "array([[ 1.        , -0.39892864],\n",
       "       [-0.39892864,  1.        ]])"
      ]
     },
     "execution_count": 961,
     "metadata": {},
     "output_type": "execute_result"
    }
   ],
   "source": [
    "np.corrcoef(a,b)"
   ]
  },
  {
   "cell_type": "code",
   "execution_count": null,
   "metadata": {},
   "outputs": [
    {
     "name": "stdout",
     "output_type": "stream",
     "text": [
      "368 new projections matched\n",
      "73 new projections matched\n",
      "386 new projections matched\n",
      "349 new projections matched\n",
      "250 new projections matched\n",
      "108 new projections matched\n",
      "128 new projections matched\n",
      "364 new projections matched\n",
      "365 new projections matched\n",
      "88 new projections matched\n",
      "360 new projections matched\n",
      "400 new projections matched\n",
      "392 new projections matched\n",
      "406 new projections matched\n",
      "242 new projections matched\n",
      "373 new projections matched\n",
      "321 new projections matched\n",
      "268 new projections matched\n",
      "361 new projections matched\n",
      "390 new projections matched\n",
      "415 new projections matched\n",
      "322 new projections matched\n",
      "235 new projections matched\n",
      "356 new projections matched\n",
      "191 new projections matched\n",
      "282 new projections matched\n",
      "436 new projections matched\n",
      "167 new projections matched\n",
      "356 new projections matched\n",
      "294 new projections matched\n",
      "166 new projections matched\n",
      "309 new projections matched\n",
      "377 new projections matched\n",
      "272 new projections matched\n",
      "372 new projections matched\n",
      "321 new projections matched\n",
      "376 new projections matched\n",
      "327 new projections matched\n",
      "209 new projections matched\n",
      "325 new projections matched\n",
      "312 new projections matched\n",
      "467 new projections matched\n",
      "473 new projections matched\n",
      "358 new projections matched\n",
      "107 new projections matched\n",
      "202 new projections matched\n",
      "314 new projections matched\n",
      "428 new projections matched\n",
      "45 new projections matched\n",
      "374 new projections matched\n",
      "179 new projections matched\n",
      "394 new projections matched\n",
      "331 new projections matched\n",
      "368 new projections matched\n",
      "379 new projections matched\n",
      "362 new projections matched\n",
      "355 new projections matched\n",
      "33 new projections matched\n",
      "378 new projections matched\n",
      "401 new projections matched\n",
      "365 new projections matched\n",
      "362 new projections matched\n",
      "339 new projections matched\n",
      "331 new projections matched\n",
      "265 new projections matched\n",
      "156 new projections matched\n",
      "326 new projections matched\n",
      "158 new projections matched\n",
      "36 new projections matched\n",
      "310 new projections matched\n",
      "245 new projections matched\n",
      "165 new projections matched\n",
      "344 new projections matched\n",
      "395 new projections matched\n",
      "378 new projections matched\n",
      "370 new projections matched\n",
      "176 new projections matched\n",
      "284 new projections matched\n",
      "423 new projections matched\n",
      "327 new projections matched\n",
      "355 new projections matched\n",
      "413 new projections matched\n",
      "309 new projections matched\n",
      "311 new projections matched\n",
      "54 new projections matched\n",
      "94 new projections matched\n",
      "405 new projections matched\n",
      "345 new projections matched\n",
      "37 new projections matched\n",
      "144 new projections matched\n",
      "231 new projections matched\n",
      "315 new projections matched\n",
      "262 new projections matched\n",
      "234 new projections matched\n",
      "255 new projections matched\n",
      "267 new projections matched\n",
      "213 new projections matched\n",
      "268 new projections matched\n",
      "332 new projections matched\n",
      "110 new projections matched\n",
      "386 new projections matched\n",
      "333 new projections matched\n",
      "255 new projections matched\n",
      "304 new projections matched\n",
      "421 new projections matched\n",
      "239 new projections matched\n",
      "213 new projections matched\n",
      "316 new projections matched\n",
      "274 new projections matched\n",
      "94 new projections matched\n",
      "137 new projections matched\n",
      "372 new projections matched\n",
      "325 new projections matched\n",
      "425 new projections matched\n",
      "271 new projections matched\n",
      "302 new projections matched\n",
      "295 new projections matched\n",
      "331 new projections matched\n",
      "348 new projections matched\n",
      "399 new projections matched\n",
      "358 new projections matched\n",
      "102 new projections matched\n",
      "378 new projections matched\n",
      "327 new projections matched\n",
      "260 new projections matched\n",
      "419 new projections matched\n",
      "154 new projections matched\n",
      "214 new projections matched\n",
      "413 new projections matched\n",
      "403 new projections matched\n",
      "222 new projections matched\n",
      "201 new projections matched\n",
      "357 new projections matched\n"
     ]
    }
   ],
   "source": [
    "for row in bucket_stocks.n1ql_query(\"\"\"\n",
    "    SELECT * FROM stocks \n",
    "    where quote_currency==financial_currency  \n",
    "        and quote is not null \n",
    "        and matched_projections is not missing\n",
    "        \"\"\"):\n",
    "    stock = row['stocks']\n",
    "    ticker = stock['ticker']\n",
    "    quote = float(stock['quote'])\n",
    "    eps = float(stock['eps'])\n",
    "    book_value=float(stock['book_value'])\n",
    "    \n",
    "    s = Stock(ticker,quote,book_value,eps)\n",
    "    s.initialize()\n",
    "    s.append_projections(bucket_stocks)\n",
    "    #if s.implied_eps_bias() < -0.01 and s.implied_eps() >0.02 :\n",
    "     #   print (s.summary())"
   ]
  },
  {
   "cell_type": "code",
   "execution_count": 241,
   "metadata": {},
   "outputs": [
    {
     "name": "stderr",
     "output_type": "stream",
     "text": [
      "/usr/local/lib/python3.7/site-packages/ipykernel_launcher.py:94: RuntimeWarning: divide by zero encountered in double_scalars\n"
     ]
    },
    {
     "name": "stdout",
     "output_type": "stream",
     "text": [
      "Stock ME8U.SI with intrinsic value 2.276 and estimate volitility 6.009\n",
      "implied eps: 0.157 with upside elasticity: -0.03 with downside elasticity: 0.09\n",
      "implied eps bias: 0.867 with upside elasticity: 0.78 with downside elasticity: 0.92\n",
      "implied irr: 18.4% with upside elasticity: 1.18 with downside elasticity: 1.60\n",
      "implied g: 4.7% after year 5.1  \n",
      "implied nav: 1.581 with upside elasticity: 0.44 with downside elasticity: 1.00\n",
      "        \n",
      "        \n",
      "None\n",
      "Stock N2IU.SI with intrinsic value 1.824 and estimate volitility 2.664\n",
      "implied eps: 0.353 with upside elasticity: 0.31 with downside elasticity: -0.09\n",
      "implied eps bias: 0.251 with upside elasticity: 0.96 with downside elasticity: 0.29\n",
      "implied irr: 18.1% with upside elasticity: 0.54 with downside elasticity: 1.21\n",
      "implied g: 4.8% after year 4.3  \n",
      "implied nav: 1.735 with upside elasticity: 1.54 with downside elasticity: 0.61\n",
      "        \n",
      "        \n",
      "None\n",
      "Stock S58.SI with intrinsic value 2.834 and estimate volitility 4.417\n",
      "implied eps: 0.168 with upside elasticity: 0.18 with downside elasticity: 0.08\n",
      "implied eps bias: 1.197 with upside elasticity: 0.63 with downside elasticity: 0.66\n",
      "implied irr: 18.2% with upside elasticity: 1.11 with downside elasticity: 1.10\n",
      "implied g: 3.8% after year 4.1  \n",
      "implied nav: 1.487 with upside elasticity: 0.87 with downside elasticity: 0.45\n",
      "        \n",
      "        \n",
      "None\n"
     ]
    }
   ],
   "source": [
    "for row in bucket_stocks.n1ql_query(\"\"\"\n",
    "    SELECT * FROM stocks \n",
    "    where quote_currency==financial_currency  \n",
    "        and matched_projections is not missing \n",
    "        \"\"\"):\n",
    "    stock = row['stocks']\n",
    "    ticker = stock['ticker']\n",
    "    quote = float(stock['quote'])\n",
    "    eps = float(stock['eps'])\n",
    "    book_value=float(stock['book_value'])\n",
    "    projections = stock['matched_projections']\n",
    "    s = Stock(ticker,quote,book_value,eps)\n",
    "    s.set_projections(projections)\n",
    "    s.refresh_price(False)\n",
    "    if s.implied_eps()*s.implied_eps_bias()>0.0001 and\\\n",
    "        s.eps_elasticity_down()<1 and \\\n",
    "        s.eps_bias_elasticity_down()<1 and \\\n",
    "        s.irr_elasticity_down()<1 and \\\n",
    "        s.nav_elasticity_down()<1:\n",
    "        print (s.summary())"
   ]
  }
 ],
 "metadata": {
  "kernelspec": {
   "display_name": "Python 3",
   "language": "python",
   "name": "python3"
  },
  "language_info": {
   "codemirror_mode": {
    "name": "ipython",
    "version": 3
   },
   "file_extension": ".py",
   "mimetype": "text/x-python",
   "name": "python",
   "nbconvert_exporter": "python",
   "pygments_lexer": "ipython3",
   "version": "3.7.6"
  }
 },
 "nbformat": 4,
 "nbformat_minor": 2
}
